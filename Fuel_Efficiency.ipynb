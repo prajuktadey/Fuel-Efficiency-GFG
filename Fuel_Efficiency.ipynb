{
  "nbformat": 4,
  "nbformat_minor": 0,
  "metadata": {
    "colab": {
      "name": "Fuel_Efficiency.ipynb",
      "provenance": [],
      "collapsed_sections": [],
      "authorship_tag": "ABX9TyM17A5ajsr34HHYV3SLp8KP",
      "include_colab_link": true
    },
    "kernelspec": {
      "name": "python3",
      "display_name": "Python 3"
    },
    "language_info": {
      "name": "python"
    }
  },
  "cells": [
    {
      "cell_type": "markdown",
      "metadata": {
        "id": "view-in-github",
        "colab_type": "text"
      },
      "source": [
        "<a href=\"https://colab.research.google.com/github/prajuktadey/Fuel-Efficiency-GFG/blob/main/Fuel_Efficiency.ipynb\" target=\"_parent\"><img src=\"https://colab.research.google.com/assets/colab-badge.svg\" alt=\"Open In Colab\"/></a>"
      ]
    },
    {
      "cell_type": "markdown",
      "source": [
        "# Fuel Consumption Prediction Using Linear Regression\n",
        "By: Prajukta Dey"
      ],
      "metadata": {
        "id": "MleHh6Wxmglp"
      }
    },
    {
      "cell_type": "markdown",
      "source": [
        "# **Importing Libraries**"
      ],
      "metadata": {
        "id": "O5vbwKHYoiFA"
      }
    },
    {
      "cell_type": "code",
      "source": [
        "# Importing necessary libraries\n",
        "import pandas as pd\n",
        "import numpy as np\n",
        "import seaborn as sns\n",
        "import matplotlib.pyplot as plt\n",
        "import warnings\n",
        "warnings.filterwarnings(\"ignore\")\n",
        "\n",
        "from scipy import stats\n",
        "from scipy.stats import norm, skew\n",
        "\n",
        "from sklearn.preprocessing import RobustScaler, StandardScaler\n",
        "import statsmodels as sm\n",
        "from statsmodels.stats.outliers_influence import variance_inflation_factor\n",
        "\n",
        "from sklearn import preprocessing\n",
        "from sklearn.preprocessing import OneHotEncoder, PolynomialFeatures\n",
        "from sklearn.compose import ColumnTransformer\n",
        "from sklearn.preprocessing import LabelEncoder\n",
        "from sklearn.model_selection import train_test_split\n",
        "from sklearn.linear_model import LinearRegression,Ridge,Lasso\n",
        "from sklearn.tree import DecisionTreeRegressor\n",
        "from sklearn.ensemble import RandomForestRegressor,GradientBoostingRegressor\n",
        "from sklearn.model_selection import train_test_split,GridSearchCV,RandomizedSearchCV\n",
        "\n",
        "from sklearn import metrics\n",
        "from sklearn.metrics import mean_absolute_error,mean_squared_error,r2_score\n",
        "from sklearn.metrics import accuracy_score,confusion_matrix"
      ],
      "metadata": {
        "id": "oK2NiIyRm54X"
      },
      "execution_count": 74,
      "outputs": []
    },
    {
      "cell_type": "markdown",
      "source": [
        "# **Uploading and reading the dataset**"
      ],
      "metadata": {
        "id": "-2_DmUTFoyeT"
      }
    },
    {
      "cell_type": "code",
      "source": [
        "from google.colab import files\n",
        "uploaded = files.upload()"
      ],
      "metadata": {
        "colab": {
          "resources": {
            "http://localhost:8080/nbextensions/google.colab/files.js": {
              "data": "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",
              "ok": true,
              "headers": [
                [
                  "content-type",
                  "application/javascript"
                ]
              ],
              "status": 200,
              "status_text": ""
            }
          },
          "base_uri": "https://localhost:8080/",
          "height": 73
        },
        "id": "DFMmqjsIo4nd",
        "outputId": "b03fe11b-de05-4721-c364-0ff330f8005e"
      },
      "execution_count": null,
      "outputs": [
        {
          "output_type": "display_data",
          "data": {
            "text/plain": [
              "<IPython.core.display.HTML object>"
            ],
            "text/html": [
              "\n",
              "     <input type=\"file\" id=\"files-e1a6f0d5-43b2-44a0-b0d8-81880dc927ba\" name=\"files[]\" multiple disabled\n",
              "        style=\"border:none\" />\n",
              "     <output id=\"result-e1a6f0d5-43b2-44a0-b0d8-81880dc927ba\">\n",
              "      Upload widget is only available when the cell has been executed in the\n",
              "      current browser session. Please rerun this cell to enable.\n",
              "      </output>\n",
              "      <script src=\"/nbextensions/google.colab/files.js\"></script> "
            ]
          },
          "metadata": {}
        },
        {
          "output_type": "stream",
          "name": "stdout",
          "text": [
            "Saving competition_edu_dataset.csv to competition_edu_dataset.csv\n"
          ]
        }
      ]
    },
    {
      "cell_type": "code",
      "source": [
        "# Reading the dataset\n",
        "df=pd.read_csv('competition_edu_dataset.csv',encoding='unicode_escape',on_bad_lines='skip')"
      ],
      "metadata": {
        "id": "D7RJsmHupCDu"
      },
      "execution_count": null,
      "outputs": []
    },
    {
      "cell_type": "markdown",
      "source": [
        "**Data Understanding**"
      ],
      "metadata": {
        "id": "54nHH3GPpGid"
      }
    },
    {
      "cell_type": "code",
      "source": [
        "# let's see the meaning of the columns of the data\n",
        "# mpg - Milieage/Miles Per Galon\n",
        "# cylinders - the power unit of the car where gasoline is turned into power\n",
        "# displacement - engine displacement of the car\n",
        "# horsepower - rate of the engine performance\n",
        "# weight - the weight of a car\n",
        "# acceleration - the acceleration of a car\n",
        "# model - model of the car\n",
        "# origin - the origin of the car \n",
        "# car - the name of the car\n",
        "\n",
        "df.head(10)"
      ],
      "metadata": {
        "colab": {
          "base_uri": "https://localhost:8080/",
          "height": 321
        },
        "id": "Pk6w5kdxpK8q",
        "outputId": "1df189a4-b8d6-4296-e10b-d8ee3bf6f800"
      },
      "execution_count": null,
      "outputs": [
        {
          "output_type": "execute_result",
          "data": {
            "text/plain": [
              "    MPG  Cylinders  Displacement Horsepower  Weight  Acceleration  Model Year  \\\n",
              "0  13.0          8         400.0        190    4422          12.5          72   \n",
              "1  13.0          8         350.0        145    3988          13.0          73   \n",
              "2  15.5          8         350.0        170    4165          11.4          77   \n",
              "3  17.0          6         231.0        110    3907          21.0          75   \n",
              "4  13.0          8         318.0        150    3755          14.0          76   \n",
              "5  13.0          8         302.0        130    3870          15.0          76   \n",
              "6  25.0          4         110.0         87    2672          17.5          70   \n",
              "7  25.5          4         140.0         89    2755          15.8          77   \n",
              "8  38.0          4          91.0         67    1995          16.2          82   \n",
              "9  20.5          6         225.0        100    3430          17.2          78   \n",
              "\n",
              "   Origin                      Car Name  \n",
              "0       1        chrysler newport royal  \n",
              "1       1              chevrolet malibu  \n",
              "2       1  chevrolet monte carlo landau  \n",
              "3       1                 buick century  \n",
              "4       1                    dodge d100  \n",
              "5       1                     ford f108  \n",
              "6       2                   peugeot 504  \n",
              "7       1           ford mustang ii 2+2  \n",
              "8       3                 datsun 310 gx  \n",
              "9       1               plymouth volare  "
            ],
            "text/html": [
              "\n",
              "  <div id=\"df-f47b9c06-eacc-4845-8838-fb9455c9a155\">\n",
              "    <div class=\"colab-df-container\">\n",
              "      <div>\n",
              "<style scoped>\n",
              "    .dataframe tbody tr th:only-of-type {\n",
              "        vertical-align: middle;\n",
              "    }\n",
              "\n",
              "    .dataframe tbody tr th {\n",
              "        vertical-align: top;\n",
              "    }\n",
              "\n",
              "    .dataframe thead th {\n",
              "        text-align: right;\n",
              "    }\n",
              "</style>\n",
              "<table border=\"1\" class=\"dataframe\">\n",
              "  <thead>\n",
              "    <tr style=\"text-align: right;\">\n",
              "      <th></th>\n",
              "      <th>MPG</th>\n",
              "      <th>Cylinders</th>\n",
              "      <th>Displacement</th>\n",
              "      <th>Horsepower</th>\n",
              "      <th>Weight</th>\n",
              "      <th>Acceleration</th>\n",
              "      <th>Model Year</th>\n",
              "      <th>Origin</th>\n",
              "      <th>Car Name</th>\n",
              "    </tr>\n",
              "  </thead>\n",
              "  <tbody>\n",
              "    <tr>\n",
              "      <th>0</th>\n",
              "      <td>13.0</td>\n",
              "      <td>8</td>\n",
              "      <td>400.0</td>\n",
              "      <td>190</td>\n",
              "      <td>4422</td>\n",
              "      <td>12.5</td>\n",
              "      <td>72</td>\n",
              "      <td>1</td>\n",
              "      <td>chrysler newport royal</td>\n",
              "    </tr>\n",
              "    <tr>\n",
              "      <th>1</th>\n",
              "      <td>13.0</td>\n",
              "      <td>8</td>\n",
              "      <td>350.0</td>\n",
              "      <td>145</td>\n",
              "      <td>3988</td>\n",
              "      <td>13.0</td>\n",
              "      <td>73</td>\n",
              "      <td>1</td>\n",
              "      <td>chevrolet malibu</td>\n",
              "    </tr>\n",
              "    <tr>\n",
              "      <th>2</th>\n",
              "      <td>15.5</td>\n",
              "      <td>8</td>\n",
              "      <td>350.0</td>\n",
              "      <td>170</td>\n",
              "      <td>4165</td>\n",
              "      <td>11.4</td>\n",
              "      <td>77</td>\n",
              "      <td>1</td>\n",
              "      <td>chevrolet monte carlo landau</td>\n",
              "    </tr>\n",
              "    <tr>\n",
              "      <th>3</th>\n",
              "      <td>17.0</td>\n",
              "      <td>6</td>\n",
              "      <td>231.0</td>\n",
              "      <td>110</td>\n",
              "      <td>3907</td>\n",
              "      <td>21.0</td>\n",
              "      <td>75</td>\n",
              "      <td>1</td>\n",
              "      <td>buick century</td>\n",
              "    </tr>\n",
              "    <tr>\n",
              "      <th>4</th>\n",
              "      <td>13.0</td>\n",
              "      <td>8</td>\n",
              "      <td>318.0</td>\n",
              "      <td>150</td>\n",
              "      <td>3755</td>\n",
              "      <td>14.0</td>\n",
              "      <td>76</td>\n",
              "      <td>1</td>\n",
              "      <td>dodge d100</td>\n",
              "    </tr>\n",
              "    <tr>\n",
              "      <th>5</th>\n",
              "      <td>13.0</td>\n",
              "      <td>8</td>\n",
              "      <td>302.0</td>\n",
              "      <td>130</td>\n",
              "      <td>3870</td>\n",
              "      <td>15.0</td>\n",
              "      <td>76</td>\n",
              "      <td>1</td>\n",
              "      <td>ford f108</td>\n",
              "    </tr>\n",
              "    <tr>\n",
              "      <th>6</th>\n",
              "      <td>25.0</td>\n",
              "      <td>4</td>\n",
              "      <td>110.0</td>\n",
              "      <td>87</td>\n",
              "      <td>2672</td>\n",
              "      <td>17.5</td>\n",
              "      <td>70</td>\n",
              "      <td>2</td>\n",
              "      <td>peugeot 504</td>\n",
              "    </tr>\n",
              "    <tr>\n",
              "      <th>7</th>\n",
              "      <td>25.5</td>\n",
              "      <td>4</td>\n",
              "      <td>140.0</td>\n",
              "      <td>89</td>\n",
              "      <td>2755</td>\n",
              "      <td>15.8</td>\n",
              "      <td>77</td>\n",
              "      <td>1</td>\n",
              "      <td>ford mustang ii 2+2</td>\n",
              "    </tr>\n",
              "    <tr>\n",
              "      <th>8</th>\n",
              "      <td>38.0</td>\n",
              "      <td>4</td>\n",
              "      <td>91.0</td>\n",
              "      <td>67</td>\n",
              "      <td>1995</td>\n",
              "      <td>16.2</td>\n",
              "      <td>82</td>\n",
              "      <td>3</td>\n",
              "      <td>datsun 310 gx</td>\n",
              "    </tr>\n",
              "    <tr>\n",
              "      <th>9</th>\n",
              "      <td>20.5</td>\n",
              "      <td>6</td>\n",
              "      <td>225.0</td>\n",
              "      <td>100</td>\n",
              "      <td>3430</td>\n",
              "      <td>17.2</td>\n",
              "      <td>78</td>\n",
              "      <td>1</td>\n",
              "      <td>plymouth volare</td>\n",
              "    </tr>\n",
              "  </tbody>\n",
              "</table>\n",
              "</div>\n",
              "      <button class=\"colab-df-convert\" onclick=\"convertToInteractive('df-f47b9c06-eacc-4845-8838-fb9455c9a155')\"\n",
              "              title=\"Convert this dataframe to an interactive table.\"\n",
              "              style=\"display:none;\">\n",
              "        \n",
              "  <svg xmlns=\"http://www.w3.org/2000/svg\" height=\"24px\"viewBox=\"0 0 24 24\"\n",
              "       width=\"24px\">\n",
              "    <path d=\"M0 0h24v24H0V0z\" fill=\"none\"/>\n",
              "    <path d=\"M18.56 5.44l.94 2.06.94-2.06 2.06-.94-2.06-.94-.94-2.06-.94 2.06-2.06.94zm-11 1L8.5 8.5l.94-2.06 2.06-.94-2.06-.94L8.5 2.5l-.94 2.06-2.06.94zm10 10l.94 2.06.94-2.06 2.06-.94-2.06-.94-.94-2.06-.94 2.06-2.06.94z\"/><path d=\"M17.41 7.96l-1.37-1.37c-.4-.4-.92-.59-1.43-.59-.52 0-1.04.2-1.43.59L10.3 9.45l-7.72 7.72c-.78.78-.78 2.05 0 2.83L4 21.41c.39.39.9.59 1.41.59.51 0 1.02-.2 1.41-.59l7.78-7.78 2.81-2.81c.8-.78.8-2.07 0-2.86zM5.41 20L4 18.59l7.72-7.72 1.47 1.35L5.41 20z\"/>\n",
              "  </svg>\n",
              "      </button>\n",
              "      \n",
              "  <style>\n",
              "    .colab-df-container {\n",
              "      display:flex;\n",
              "      flex-wrap:wrap;\n",
              "      gap: 12px;\n",
              "    }\n",
              "\n",
              "    .colab-df-convert {\n",
              "      background-color: #E8F0FE;\n",
              "      border: none;\n",
              "      border-radius: 50%;\n",
              "      cursor: pointer;\n",
              "      display: none;\n",
              "      fill: #1967D2;\n",
              "      height: 32px;\n",
              "      padding: 0 0 0 0;\n",
              "      width: 32px;\n",
              "    }\n",
              "\n",
              "    .colab-df-convert:hover {\n",
              "      background-color: #E2EBFA;\n",
              "      box-shadow: 0px 1px 2px rgba(60, 64, 67, 0.3), 0px 1px 3px 1px rgba(60, 64, 67, 0.15);\n",
              "      fill: #174EA6;\n",
              "    }\n",
              "\n",
              "    [theme=dark] .colab-df-convert {\n",
              "      background-color: #3B4455;\n",
              "      fill: #D2E3FC;\n",
              "    }\n",
              "\n",
              "    [theme=dark] .colab-df-convert:hover {\n",
              "      background-color: #434B5C;\n",
              "      box-shadow: 0px 1px 3px 1px rgba(0, 0, 0, 0.15);\n",
              "      filter: drop-shadow(0px 1px 2px rgba(0, 0, 0, 0.3));\n",
              "      fill: #FFFFFF;\n",
              "    }\n",
              "  </style>\n",
              "\n",
              "      <script>\n",
              "        const buttonEl =\n",
              "          document.querySelector('#df-f47b9c06-eacc-4845-8838-fb9455c9a155 button.colab-df-convert');\n",
              "        buttonEl.style.display =\n",
              "          google.colab.kernel.accessAllowed ? 'block' : 'none';\n",
              "\n",
              "        async function convertToInteractive(key) {\n",
              "          const element = document.querySelector('#df-f47b9c06-eacc-4845-8838-fb9455c9a155');\n",
              "          const dataTable =\n",
              "            await google.colab.kernel.invokeFunction('convertToInteractive',\n",
              "                                                     [key], {});\n",
              "          if (!dataTable) return;\n",
              "\n",
              "          const docLinkHtml = 'Like what you see? Visit the ' +\n",
              "            '<a target=\"_blank\" href=https://colab.research.google.com/notebooks/data_table.ipynb>data table notebook</a>'\n",
              "            + ' to learn more about interactive tables.';\n",
              "          element.innerHTML = '';\n",
              "          dataTable['output_type'] = 'display_data';\n",
              "          await google.colab.output.renderOutput(dataTable, element);\n",
              "          const docLink = document.createElement('div');\n",
              "          docLink.innerHTML = docLinkHtml;\n",
              "          element.appendChild(docLink);\n",
              "        }\n",
              "      </script>\n",
              "    </div>\n",
              "  </div>\n",
              "  "
            ]
          },
          "metadata": {},
          "execution_count": 22
        }
      ]
    },
    {
      "cell_type": "code",
      "source": [
        "# displaying the number of rows and columns\n",
        "z=df.shape\n",
        "print(\"Number of columns: \", z[0])\n",
        "print(\"Number of rows: \", z[1])"
      ],
      "metadata": {
        "colab": {
          "base_uri": "https://localhost:8080/"
        },
        "id": "QoT31tcepYy3",
        "outputId": "7a0c8947-9f22-41f5-8e82-682e27318a4d"
      },
      "execution_count": null,
      "outputs": [
        {
          "output_type": "stream",
          "name": "stdout",
          "text": [
            "Number of columns:  300\n",
            "Number of rows:  9\n"
          ]
        }
      ]
    },
    {
      "cell_type": "markdown",
      "source": [
        "There are 300 data entries in the dataset provided."
      ],
      "metadata": {
        "id": "QoX--QmQpcIq"
      }
    },
    {
      "cell_type": "code",
      "source": [
        "# displaying column names\n",
        "y=df.columns\n",
        "print(\"Columns of the dataset:\\n\")\n",
        "for i in y:\n",
        "  print(i)"
      ],
      "metadata": {
        "colab": {
          "base_uri": "https://localhost:8080/"
        },
        "id": "n2-2cvLjpkN4",
        "outputId": "704fd878-5c17-4f3f-f7e3-bf9f60d2e1fb"
      },
      "execution_count": null,
      "outputs": [
        {
          "output_type": "stream",
          "name": "stdout",
          "text": [
            "Columns of the dataset:\n",
            "\n",
            "MPG\n",
            "Cylinders\n",
            "Displacement\n",
            "Horsepower\n",
            "Weight\n",
            "Acceleration\n",
            "Model Year\n",
            "Origin\n",
            "Car Name\n"
          ]
        }
      ]
    },
    {
      "cell_type": "markdown",
      "source": [
        "In the above cell, the column names are being displayed."
      ],
      "metadata": {
        "id": "MJa_imz8pnfi"
      }
    },
    {
      "cell_type": "code",
      "source": [
        "# glossary\n",
        "x=[\"MPG = (Miles per Gallon)\" ]\n",
        "for i in x:\n",
        "  print(i)"
      ],
      "metadata": {
        "colab": {
          "base_uri": "https://localhost:8080/"
        },
        "id": "HxgEtMvZpr4D",
        "outputId": "ae0b82d4-74cc-4b10-c1d2-15b9f9c07a9a"
      },
      "execution_count": null,
      "outputs": [
        {
          "output_type": "stream",
          "name": "stdout",
          "text": [
            "MPG = (Miles per Gallon)\n"
          ]
        }
      ]
    },
    {
      "cell_type": "markdown",
      "source": [
        "The above cell states that the MPG abbreviation stands for Miles per Gallon."
      ],
      "metadata": {
        "id": "kcFZk8-KpvgU"
      }
    },
    {
      "cell_type": "code",
      "source": [
        "# displaying basic information about the dataset\n",
        "df.info()"
      ],
      "metadata": {
        "colab": {
          "base_uri": "https://localhost:8080/"
        },
        "id": "iG2twOpHp4QP",
        "outputId": "d2c5a180-79ac-4c35-b537-aafa2b72a879"
      },
      "execution_count": null,
      "outputs": [
        {
          "output_type": "stream",
          "name": "stdout",
          "text": [
            "<class 'pandas.core.frame.DataFrame'>\n",
            "RangeIndex: 300 entries, 0 to 299\n",
            "Data columns (total 9 columns):\n",
            " #   Column        Non-Null Count  Dtype  \n",
            "---  ------        --------------  -----  \n",
            " 0   MPG           300 non-null    float64\n",
            " 1   Cylinders     300 non-null    int64  \n",
            " 2   Displacement  300 non-null    float64\n",
            " 3   Horsepower    300 non-null    object \n",
            " 4   Weight        300 non-null    int64  \n",
            " 5   Acceleration  300 non-null    float64\n",
            " 6   Model Year    300 non-null    int64  \n",
            " 7   Origin        300 non-null    int64  \n",
            " 8   Car Name      300 non-null    object \n",
            "dtypes: float64(3), int64(4), object(2)\n",
            "memory usage: 21.2+ KB\n"
          ]
        }
      ]
    },
    {
      "cell_type": "markdown",
      "source": [
        " We can see that the horsepower column is an object datatype. We will try to clean the horsepower column during the cleaning time."
      ],
      "metadata": {
        "id": "6yWPrgZMsNgj"
      }
    },
    {
      "cell_type": "code",
      "source": [
        "# Checking the descriptive stats of the numeric values present in the data like mean, standard deviation, min values and max value present in the data\n",
        "df.describe()"
      ],
      "metadata": {
        "colab": {
          "base_uri": "https://localhost:8080/",
          "height": 278
        },
        "id": "iH-VWQq6qGw3",
        "outputId": "f0e73163-ccad-4f11-e789-ecf5121ba36a"
      },
      "execution_count": null,
      "outputs": [
        {
          "output_type": "execute_result",
          "data": {
            "text/plain": [
              "              MPG   Cylinders  Displacement       Weight  Acceleration  \\\n",
              "count  300.000000  300.000000    300.000000   300.000000    300.000000   \n",
              "mean    23.679333    5.430000    192.118333  2952.820000     15.567000   \n",
              "std      7.803218    1.703361    104.711230   836.196298      2.811469   \n",
              "min      9.000000    3.000000     68.000000  1613.000000      8.000000   \n",
              "25%     17.000000    4.000000     98.000000  2219.750000     13.875000   \n",
              "50%     23.000000    4.000000    144.500000  2789.500000     15.500000   \n",
              "75%     29.000000    8.000000    263.250000  3565.750000     17.125000   \n",
              "max     44.600000    8.000000    455.000000  5140.000000     24.800000   \n",
              "\n",
              "       Model Year      Origin  \n",
              "count  300.000000  300.000000  \n",
              "mean    76.043333    1.563333  \n",
              "std      3.782744    0.792517  \n",
              "min     70.000000    1.000000  \n",
              "25%     73.000000    1.000000  \n",
              "50%     76.000000    1.000000  \n",
              "75%     79.000000    2.000000  \n",
              "max     82.000000    3.000000  "
            ],
            "text/html": [
              "\n",
              "  <div id=\"df-c3c8181b-a8b6-4ced-9895-0528165ed3f2\">\n",
              "    <div class=\"colab-df-container\">\n",
              "      <div>\n",
              "<style scoped>\n",
              "    .dataframe tbody tr th:only-of-type {\n",
              "        vertical-align: middle;\n",
              "    }\n",
              "\n",
              "    .dataframe tbody tr th {\n",
              "        vertical-align: top;\n",
              "    }\n",
              "\n",
              "    .dataframe thead th {\n",
              "        text-align: right;\n",
              "    }\n",
              "</style>\n",
              "<table border=\"1\" class=\"dataframe\">\n",
              "  <thead>\n",
              "    <tr style=\"text-align: right;\">\n",
              "      <th></th>\n",
              "      <th>MPG</th>\n",
              "      <th>Cylinders</th>\n",
              "      <th>Displacement</th>\n",
              "      <th>Weight</th>\n",
              "      <th>Acceleration</th>\n",
              "      <th>Model Year</th>\n",
              "      <th>Origin</th>\n",
              "    </tr>\n",
              "  </thead>\n",
              "  <tbody>\n",
              "    <tr>\n",
              "      <th>count</th>\n",
              "      <td>300.000000</td>\n",
              "      <td>300.000000</td>\n",
              "      <td>300.000000</td>\n",
              "      <td>300.000000</td>\n",
              "      <td>300.000000</td>\n",
              "      <td>300.000000</td>\n",
              "      <td>300.000000</td>\n",
              "    </tr>\n",
              "    <tr>\n",
              "      <th>mean</th>\n",
              "      <td>23.679333</td>\n",
              "      <td>5.430000</td>\n",
              "      <td>192.118333</td>\n",
              "      <td>2952.820000</td>\n",
              "      <td>15.567000</td>\n",
              "      <td>76.043333</td>\n",
              "      <td>1.563333</td>\n",
              "    </tr>\n",
              "    <tr>\n",
              "      <th>std</th>\n",
              "      <td>7.803218</td>\n",
              "      <td>1.703361</td>\n",
              "      <td>104.711230</td>\n",
              "      <td>836.196298</td>\n",
              "      <td>2.811469</td>\n",
              "      <td>3.782744</td>\n",
              "      <td>0.792517</td>\n",
              "    </tr>\n",
              "    <tr>\n",
              "      <th>min</th>\n",
              "      <td>9.000000</td>\n",
              "      <td>3.000000</td>\n",
              "      <td>68.000000</td>\n",
              "      <td>1613.000000</td>\n",
              "      <td>8.000000</td>\n",
              "      <td>70.000000</td>\n",
              "      <td>1.000000</td>\n",
              "    </tr>\n",
              "    <tr>\n",
              "      <th>25%</th>\n",
              "      <td>17.000000</td>\n",
              "      <td>4.000000</td>\n",
              "      <td>98.000000</td>\n",
              "      <td>2219.750000</td>\n",
              "      <td>13.875000</td>\n",
              "      <td>73.000000</td>\n",
              "      <td>1.000000</td>\n",
              "    </tr>\n",
              "    <tr>\n",
              "      <th>50%</th>\n",
              "      <td>23.000000</td>\n",
              "      <td>4.000000</td>\n",
              "      <td>144.500000</td>\n",
              "      <td>2789.500000</td>\n",
              "      <td>15.500000</td>\n",
              "      <td>76.000000</td>\n",
              "      <td>1.000000</td>\n",
              "    </tr>\n",
              "    <tr>\n",
              "      <th>75%</th>\n",
              "      <td>29.000000</td>\n",
              "      <td>8.000000</td>\n",
              "      <td>263.250000</td>\n",
              "      <td>3565.750000</td>\n",
              "      <td>17.125000</td>\n",
              "      <td>79.000000</td>\n",
              "      <td>2.000000</td>\n",
              "    </tr>\n",
              "    <tr>\n",
              "      <th>max</th>\n",
              "      <td>44.600000</td>\n",
              "      <td>8.000000</td>\n",
              "      <td>455.000000</td>\n",
              "      <td>5140.000000</td>\n",
              "      <td>24.800000</td>\n",
              "      <td>82.000000</td>\n",
              "      <td>3.000000</td>\n",
              "    </tr>\n",
              "  </tbody>\n",
              "</table>\n",
              "</div>\n",
              "      <button class=\"colab-df-convert\" onclick=\"convertToInteractive('df-c3c8181b-a8b6-4ced-9895-0528165ed3f2')\"\n",
              "              title=\"Convert this dataframe to an interactive table.\"\n",
              "              style=\"display:none;\">\n",
              "        \n",
              "  <svg xmlns=\"http://www.w3.org/2000/svg\" height=\"24px\"viewBox=\"0 0 24 24\"\n",
              "       width=\"24px\">\n",
              "    <path d=\"M0 0h24v24H0V0z\" fill=\"none\"/>\n",
              "    <path d=\"M18.56 5.44l.94 2.06.94-2.06 2.06-.94-2.06-.94-.94-2.06-.94 2.06-2.06.94zm-11 1L8.5 8.5l.94-2.06 2.06-.94-2.06-.94L8.5 2.5l-.94 2.06-2.06.94zm10 10l.94 2.06.94-2.06 2.06-.94-2.06-.94-.94-2.06-.94 2.06-2.06.94z\"/><path d=\"M17.41 7.96l-1.37-1.37c-.4-.4-.92-.59-1.43-.59-.52 0-1.04.2-1.43.59L10.3 9.45l-7.72 7.72c-.78.78-.78 2.05 0 2.83L4 21.41c.39.39.9.59 1.41.59.51 0 1.02-.2 1.41-.59l7.78-7.78 2.81-2.81c.8-.78.8-2.07 0-2.86zM5.41 20L4 18.59l7.72-7.72 1.47 1.35L5.41 20z\"/>\n",
              "  </svg>\n",
              "      </button>\n",
              "      \n",
              "  <style>\n",
              "    .colab-df-container {\n",
              "      display:flex;\n",
              "      flex-wrap:wrap;\n",
              "      gap: 12px;\n",
              "    }\n",
              "\n",
              "    .colab-df-convert {\n",
              "      background-color: #E8F0FE;\n",
              "      border: none;\n",
              "      border-radius: 50%;\n",
              "      cursor: pointer;\n",
              "      display: none;\n",
              "      fill: #1967D2;\n",
              "      height: 32px;\n",
              "      padding: 0 0 0 0;\n",
              "      width: 32px;\n",
              "    }\n",
              "\n",
              "    .colab-df-convert:hover {\n",
              "      background-color: #E2EBFA;\n",
              "      box-shadow: 0px 1px 2px rgba(60, 64, 67, 0.3), 0px 1px 3px 1px rgba(60, 64, 67, 0.15);\n",
              "      fill: #174EA6;\n",
              "    }\n",
              "\n",
              "    [theme=dark] .colab-df-convert {\n",
              "      background-color: #3B4455;\n",
              "      fill: #D2E3FC;\n",
              "    }\n",
              "\n",
              "    [theme=dark] .colab-df-convert:hover {\n",
              "      background-color: #434B5C;\n",
              "      box-shadow: 0px 1px 3px 1px rgba(0, 0, 0, 0.15);\n",
              "      filter: drop-shadow(0px 1px 2px rgba(0, 0, 0, 0.3));\n",
              "      fill: #FFFFFF;\n",
              "    }\n",
              "  </style>\n",
              "\n",
              "      <script>\n",
              "        const buttonEl =\n",
              "          document.querySelector('#df-c3c8181b-a8b6-4ced-9895-0528165ed3f2 button.colab-df-convert');\n",
              "        buttonEl.style.display =\n",
              "          google.colab.kernel.accessAllowed ? 'block' : 'none';\n",
              "\n",
              "        async function convertToInteractive(key) {\n",
              "          const element = document.querySelector('#df-c3c8181b-a8b6-4ced-9895-0528165ed3f2');\n",
              "          const dataTable =\n",
              "            await google.colab.kernel.invokeFunction('convertToInteractive',\n",
              "                                                     [key], {});\n",
              "          if (!dataTable) return;\n",
              "\n",
              "          const docLinkHtml = 'Like what you see? Visit the ' +\n",
              "            '<a target=\"_blank\" href=https://colab.research.google.com/notebooks/data_table.ipynb>data table notebook</a>'\n",
              "            + ' to learn more about interactive tables.';\n",
              "          element.innerHTML = '';\n",
              "          dataTable['output_type'] = 'display_data';\n",
              "          await google.colab.output.renderOutput(dataTable, element);\n",
              "          const docLink = document.createElement('div');\n",
              "          docLink.innerHTML = docLinkHtml;\n",
              "          element.appendChild(docLink);\n",
              "        }\n",
              "      </script>\n",
              "    </div>\n",
              "  </div>\n",
              "  "
            ]
          },
          "metadata": {},
          "execution_count": 9
        }
      ]
    },
    {
      "cell_type": "code",
      "source": [
        "# checking for duplicate values\n",
        "if sum(df.duplicated())==0:\n",
        "  print(\"There are no duplicate values.\")\n",
        "else:\n",
        "  print(\"Duplicate values exist.\")\n",
        "  print(\"Number of duplicate values: \", sum(df.duplicated()))"
      ],
      "metadata": {
        "colab": {
          "base_uri": "https://localhost:8080/"
        },
        "id": "oLeeYOrVqL4f",
        "outputId": "cb9333ea-b51c-4f18-a195-29b53ca7a639"
      },
      "execution_count": null,
      "outputs": [
        {
          "output_type": "stream",
          "name": "stdout",
          "text": [
            "There are no duplicate values.\n"
          ]
        }
      ]
    },
    {
      "cell_type": "code",
      "source": [
        "# locating the missing values\n",
        "df.isnull().sum()"
      ],
      "metadata": {
        "colab": {
          "base_uri": "https://localhost:8080/"
        },
        "id": "5MiJAVIjqQR1",
        "outputId": "4827a41d-5cfc-42e5-d814-36d8033d479d"
      },
      "execution_count": null,
      "outputs": [
        {
          "output_type": "execute_result",
          "data": {
            "text/plain": [
              "MPG             0\n",
              "Cylinders       0\n",
              "Displacement    0\n",
              "Horsepower      0\n",
              "Weight          0\n",
              "Acceleration    0\n",
              "Model Year      0\n",
              "Origin          0\n",
              "Car Name        0\n",
              "dtype: int64"
            ]
          },
          "metadata": {},
          "execution_count": 11
        }
      ]
    },
    {
      "cell_type": "markdown",
      "source": [
        "There are no null values in the dataset."
      ],
      "metadata": {
        "id": "fZQM5y9UqT09"
      }
    },
    {
      "cell_type": "code",
      "source": [
        "# These are all the unique values present in the dataframe\n",
        "df.nunique()"
      ],
      "metadata": {
        "colab": {
          "base_uri": "https://localhost:8080/"
        },
        "id": "OT_Mk2wMqUqS",
        "outputId": "4c036e9c-22e2-4b37-88f0-7f133b667a17"
      },
      "execution_count": null,
      "outputs": [
        {
          "output_type": "execute_result",
          "data": {
            "text/plain": [
              "MPG             109\n",
              "Cylinders         5\n",
              "Displacement     75\n",
              "Horsepower       79\n",
              "Weight          273\n",
              "Acceleration     88\n",
              "Model Year       13\n",
              "Origin            3\n",
              "Car Name        244\n",
              "dtype: int64"
            ]
          },
          "metadata": {},
          "execution_count": 12
        }
      ]
    },
    {
      "cell_type": "markdown",
      "source": [
        "# **Data Cleaning and Processing**"
      ],
      "metadata": {
        "id": "9ZoD7Z__qsS4"
      }
    },
    {
      "cell_type": "code",
      "source": [
        "#original dataset\n",
        "df.head(10)"
      ],
      "metadata": {
        "colab": {
          "base_uri": "https://localhost:8080/",
          "height": 321
        },
        "id": "nlct_i26qts-",
        "outputId": "04dd0589-0eeb-4abf-a9e9-409bd3aefafa"
      },
      "execution_count": 83,
      "outputs": [
        {
          "output_type": "execute_result",
          "data": {
            "text/plain": [
              "    MPG  Cylinders  Displacement Horsepower  Weight  Acceleration  Model Year  \\\n",
              "0  13.0          8         400.0        190    4422          12.5          72   \n",
              "1  13.0          8         350.0        145    3988          13.0          73   \n",
              "2  15.5          8         350.0        170    4165          11.4          77   \n",
              "3  17.0          6         231.0        110    3907          21.0          75   \n",
              "4  13.0          8         318.0        150    3755          14.0          76   \n",
              "5  13.0          8         302.0        130    3870          15.0          76   \n",
              "6  25.0          4         110.0         87    2672          17.5          70   \n",
              "7  25.5          4         140.0         89    2755          15.8          77   \n",
              "8  38.0          4          91.0         67    1995          16.2          82   \n",
              "9  20.5          6         225.0        100    3430          17.2          78   \n",
              "\n",
              "   Origin                      Car Name  \n",
              "0       1        chrysler newport royal  \n",
              "1       1              chevrolet malibu  \n",
              "2       1  chevrolet monte carlo landau  \n",
              "3       1                 buick century  \n",
              "4       1                    dodge d100  \n",
              "5       1                     ford f108  \n",
              "6       2                   peugeot 504  \n",
              "7       1           ford mustang ii 2+2  \n",
              "8       3                 datsun 310 gx  \n",
              "9       1               plymouth volare  "
            ],
            "text/html": [
              "\n",
              "  <div id=\"df-51a4a494-be1e-4907-8e03-1136da06a0c1\">\n",
              "    <div class=\"colab-df-container\">\n",
              "      <div>\n",
              "<style scoped>\n",
              "    .dataframe tbody tr th:only-of-type {\n",
              "        vertical-align: middle;\n",
              "    }\n",
              "\n",
              "    .dataframe tbody tr th {\n",
              "        vertical-align: top;\n",
              "    }\n",
              "\n",
              "    .dataframe thead th {\n",
              "        text-align: right;\n",
              "    }\n",
              "</style>\n",
              "<table border=\"1\" class=\"dataframe\">\n",
              "  <thead>\n",
              "    <tr style=\"text-align: right;\">\n",
              "      <th></th>\n",
              "      <th>MPG</th>\n",
              "      <th>Cylinders</th>\n",
              "      <th>Displacement</th>\n",
              "      <th>Horsepower</th>\n",
              "      <th>Weight</th>\n",
              "      <th>Acceleration</th>\n",
              "      <th>Model Year</th>\n",
              "      <th>Origin</th>\n",
              "      <th>Car Name</th>\n",
              "    </tr>\n",
              "  </thead>\n",
              "  <tbody>\n",
              "    <tr>\n",
              "      <th>0</th>\n",
              "      <td>13.0</td>\n",
              "      <td>8</td>\n",
              "      <td>400.0</td>\n",
              "      <td>190</td>\n",
              "      <td>4422</td>\n",
              "      <td>12.5</td>\n",
              "      <td>72</td>\n",
              "      <td>1</td>\n",
              "      <td>chrysler newport royal</td>\n",
              "    </tr>\n",
              "    <tr>\n",
              "      <th>1</th>\n",
              "      <td>13.0</td>\n",
              "      <td>8</td>\n",
              "      <td>350.0</td>\n",
              "      <td>145</td>\n",
              "      <td>3988</td>\n",
              "      <td>13.0</td>\n",
              "      <td>73</td>\n",
              "      <td>1</td>\n",
              "      <td>chevrolet malibu</td>\n",
              "    </tr>\n",
              "    <tr>\n",
              "      <th>2</th>\n",
              "      <td>15.5</td>\n",
              "      <td>8</td>\n",
              "      <td>350.0</td>\n",
              "      <td>170</td>\n",
              "      <td>4165</td>\n",
              "      <td>11.4</td>\n",
              "      <td>77</td>\n",
              "      <td>1</td>\n",
              "      <td>chevrolet monte carlo landau</td>\n",
              "    </tr>\n",
              "    <tr>\n",
              "      <th>3</th>\n",
              "      <td>17.0</td>\n",
              "      <td>6</td>\n",
              "      <td>231.0</td>\n",
              "      <td>110</td>\n",
              "      <td>3907</td>\n",
              "      <td>21.0</td>\n",
              "      <td>75</td>\n",
              "      <td>1</td>\n",
              "      <td>buick century</td>\n",
              "    </tr>\n",
              "    <tr>\n",
              "      <th>4</th>\n",
              "      <td>13.0</td>\n",
              "      <td>8</td>\n",
              "      <td>318.0</td>\n",
              "      <td>150</td>\n",
              "      <td>3755</td>\n",
              "      <td>14.0</td>\n",
              "      <td>76</td>\n",
              "      <td>1</td>\n",
              "      <td>dodge d100</td>\n",
              "    </tr>\n",
              "    <tr>\n",
              "      <th>5</th>\n",
              "      <td>13.0</td>\n",
              "      <td>8</td>\n",
              "      <td>302.0</td>\n",
              "      <td>130</td>\n",
              "      <td>3870</td>\n",
              "      <td>15.0</td>\n",
              "      <td>76</td>\n",
              "      <td>1</td>\n",
              "      <td>ford f108</td>\n",
              "    </tr>\n",
              "    <tr>\n",
              "      <th>6</th>\n",
              "      <td>25.0</td>\n",
              "      <td>4</td>\n",
              "      <td>110.0</td>\n",
              "      <td>87</td>\n",
              "      <td>2672</td>\n",
              "      <td>17.5</td>\n",
              "      <td>70</td>\n",
              "      <td>2</td>\n",
              "      <td>peugeot 504</td>\n",
              "    </tr>\n",
              "    <tr>\n",
              "      <th>7</th>\n",
              "      <td>25.5</td>\n",
              "      <td>4</td>\n",
              "      <td>140.0</td>\n",
              "      <td>89</td>\n",
              "      <td>2755</td>\n",
              "      <td>15.8</td>\n",
              "      <td>77</td>\n",
              "      <td>1</td>\n",
              "      <td>ford mustang ii 2+2</td>\n",
              "    </tr>\n",
              "    <tr>\n",
              "      <th>8</th>\n",
              "      <td>38.0</td>\n",
              "      <td>4</td>\n",
              "      <td>91.0</td>\n",
              "      <td>67</td>\n",
              "      <td>1995</td>\n",
              "      <td>16.2</td>\n",
              "      <td>82</td>\n",
              "      <td>3</td>\n",
              "      <td>datsun 310 gx</td>\n",
              "    </tr>\n",
              "    <tr>\n",
              "      <th>9</th>\n",
              "      <td>20.5</td>\n",
              "      <td>6</td>\n",
              "      <td>225.0</td>\n",
              "      <td>100</td>\n",
              "      <td>3430</td>\n",
              "      <td>17.2</td>\n",
              "      <td>78</td>\n",
              "      <td>1</td>\n",
              "      <td>plymouth volare</td>\n",
              "    </tr>\n",
              "  </tbody>\n",
              "</table>\n",
              "</div>\n",
              "      <button class=\"colab-df-convert\" onclick=\"convertToInteractive('df-51a4a494-be1e-4907-8e03-1136da06a0c1')\"\n",
              "              title=\"Convert this dataframe to an interactive table.\"\n",
              "              style=\"display:none;\">\n",
              "        \n",
              "  <svg xmlns=\"http://www.w3.org/2000/svg\" height=\"24px\"viewBox=\"0 0 24 24\"\n",
              "       width=\"24px\">\n",
              "    <path d=\"M0 0h24v24H0V0z\" fill=\"none\"/>\n",
              "    <path d=\"M18.56 5.44l.94 2.06.94-2.06 2.06-.94-2.06-.94-.94-2.06-.94 2.06-2.06.94zm-11 1L8.5 8.5l.94-2.06 2.06-.94-2.06-.94L8.5 2.5l-.94 2.06-2.06.94zm10 10l.94 2.06.94-2.06 2.06-.94-2.06-.94-.94-2.06-.94 2.06-2.06.94z\"/><path d=\"M17.41 7.96l-1.37-1.37c-.4-.4-.92-.59-1.43-.59-.52 0-1.04.2-1.43.59L10.3 9.45l-7.72 7.72c-.78.78-.78 2.05 0 2.83L4 21.41c.39.39.9.59 1.41.59.51 0 1.02-.2 1.41-.59l7.78-7.78 2.81-2.81c.8-.78.8-2.07 0-2.86zM5.41 20L4 18.59l7.72-7.72 1.47 1.35L5.41 20z\"/>\n",
              "  </svg>\n",
              "      </button>\n",
              "      \n",
              "  <style>\n",
              "    .colab-df-container {\n",
              "      display:flex;\n",
              "      flex-wrap:wrap;\n",
              "      gap: 12px;\n",
              "    }\n",
              "\n",
              "    .colab-df-convert {\n",
              "      background-color: #E8F0FE;\n",
              "      border: none;\n",
              "      border-radius: 50%;\n",
              "      cursor: pointer;\n",
              "      display: none;\n",
              "      fill: #1967D2;\n",
              "      height: 32px;\n",
              "      padding: 0 0 0 0;\n",
              "      width: 32px;\n",
              "    }\n",
              "\n",
              "    .colab-df-convert:hover {\n",
              "      background-color: #E2EBFA;\n",
              "      box-shadow: 0px 1px 2px rgba(60, 64, 67, 0.3), 0px 1px 3px 1px rgba(60, 64, 67, 0.15);\n",
              "      fill: #174EA6;\n",
              "    }\n",
              "\n",
              "    [theme=dark] .colab-df-convert {\n",
              "      background-color: #3B4455;\n",
              "      fill: #D2E3FC;\n",
              "    }\n",
              "\n",
              "    [theme=dark] .colab-df-convert:hover {\n",
              "      background-color: #434B5C;\n",
              "      box-shadow: 0px 1px 3px 1px rgba(0, 0, 0, 0.15);\n",
              "      filter: drop-shadow(0px 1px 2px rgba(0, 0, 0, 0.3));\n",
              "      fill: #FFFFFF;\n",
              "    }\n",
              "  </style>\n",
              "\n",
              "      <script>\n",
              "        const buttonEl =\n",
              "          document.querySelector('#df-51a4a494-be1e-4907-8e03-1136da06a0c1 button.colab-df-convert');\n",
              "        buttonEl.style.display =\n",
              "          google.colab.kernel.accessAllowed ? 'block' : 'none';\n",
              "\n",
              "        async function convertToInteractive(key) {\n",
              "          const element = document.querySelector('#df-51a4a494-be1e-4907-8e03-1136da06a0c1');\n",
              "          const dataTable =\n",
              "            await google.colab.kernel.invokeFunction('convertToInteractive',\n",
              "                                                     [key], {});\n",
              "          if (!dataTable) return;\n",
              "\n",
              "          const docLinkHtml = 'Like what you see? Visit the ' +\n",
              "            '<a target=\"_blank\" href=https://colab.research.google.com/notebooks/data_table.ipynb>data table notebook</a>'\n",
              "            + ' to learn more about interactive tables.';\n",
              "          element.innerHTML = '';\n",
              "          dataTable['output_type'] = 'display_data';\n",
              "          await google.colab.output.renderOutput(dataTable, element);\n",
              "          const docLink = document.createElement('div');\n",
              "          docLink.innerHTML = docLinkHtml;\n",
              "          element.appendChild(docLink);\n",
              "        }\n",
              "      </script>\n",
              "    </div>\n",
              "  </div>\n",
              "  "
            ]
          },
          "metadata": {},
          "execution_count": 83
        }
      ]
    },
    {
      "cell_type": "code",
      "source": [
        "#copying the dataset\n",
        "data = df.copy()"
      ],
      "metadata": {
        "id": "xvDkjnRjq9uG"
      },
      "execution_count": 84,
      "outputs": []
    },
    {
      "cell_type": "code",
      "source": [
        "#displaying the copied dataset\n",
        "data.head(10)"
      ],
      "metadata": {
        "colab": {
          "base_uri": "https://localhost:8080/",
          "height": 321
        },
        "id": "QgNW1ZMRrKwZ",
        "outputId": "613158fa-b63f-4eec-ff1e-9f656475ed4d"
      },
      "execution_count": 85,
      "outputs": [
        {
          "output_type": "execute_result",
          "data": {
            "text/plain": [
              "    MPG  Cylinders  Displacement Horsepower  Weight  Acceleration  Model Year  \\\n",
              "0  13.0          8         400.0        190    4422          12.5          72   \n",
              "1  13.0          8         350.0        145    3988          13.0          73   \n",
              "2  15.5          8         350.0        170    4165          11.4          77   \n",
              "3  17.0          6         231.0        110    3907          21.0          75   \n",
              "4  13.0          8         318.0        150    3755          14.0          76   \n",
              "5  13.0          8         302.0        130    3870          15.0          76   \n",
              "6  25.0          4         110.0         87    2672          17.5          70   \n",
              "7  25.5          4         140.0         89    2755          15.8          77   \n",
              "8  38.0          4          91.0         67    1995          16.2          82   \n",
              "9  20.5          6         225.0        100    3430          17.2          78   \n",
              "\n",
              "   Origin                      Car Name  \n",
              "0       1        chrysler newport royal  \n",
              "1       1              chevrolet malibu  \n",
              "2       1  chevrolet monte carlo landau  \n",
              "3       1                 buick century  \n",
              "4       1                    dodge d100  \n",
              "5       1                     ford f108  \n",
              "6       2                   peugeot 504  \n",
              "7       1           ford mustang ii 2+2  \n",
              "8       3                 datsun 310 gx  \n",
              "9       1               plymouth volare  "
            ],
            "text/html": [
              "\n",
              "  <div id=\"df-4f38815a-489d-46c5-8b0d-7ff563cedcaa\">\n",
              "    <div class=\"colab-df-container\">\n",
              "      <div>\n",
              "<style scoped>\n",
              "    .dataframe tbody tr th:only-of-type {\n",
              "        vertical-align: middle;\n",
              "    }\n",
              "\n",
              "    .dataframe tbody tr th {\n",
              "        vertical-align: top;\n",
              "    }\n",
              "\n",
              "    .dataframe thead th {\n",
              "        text-align: right;\n",
              "    }\n",
              "</style>\n",
              "<table border=\"1\" class=\"dataframe\">\n",
              "  <thead>\n",
              "    <tr style=\"text-align: right;\">\n",
              "      <th></th>\n",
              "      <th>MPG</th>\n",
              "      <th>Cylinders</th>\n",
              "      <th>Displacement</th>\n",
              "      <th>Horsepower</th>\n",
              "      <th>Weight</th>\n",
              "      <th>Acceleration</th>\n",
              "      <th>Model Year</th>\n",
              "      <th>Origin</th>\n",
              "      <th>Car Name</th>\n",
              "    </tr>\n",
              "  </thead>\n",
              "  <tbody>\n",
              "    <tr>\n",
              "      <th>0</th>\n",
              "      <td>13.0</td>\n",
              "      <td>8</td>\n",
              "      <td>400.0</td>\n",
              "      <td>190</td>\n",
              "      <td>4422</td>\n",
              "      <td>12.5</td>\n",
              "      <td>72</td>\n",
              "      <td>1</td>\n",
              "      <td>chrysler newport royal</td>\n",
              "    </tr>\n",
              "    <tr>\n",
              "      <th>1</th>\n",
              "      <td>13.0</td>\n",
              "      <td>8</td>\n",
              "      <td>350.0</td>\n",
              "      <td>145</td>\n",
              "      <td>3988</td>\n",
              "      <td>13.0</td>\n",
              "      <td>73</td>\n",
              "      <td>1</td>\n",
              "      <td>chevrolet malibu</td>\n",
              "    </tr>\n",
              "    <tr>\n",
              "      <th>2</th>\n",
              "      <td>15.5</td>\n",
              "      <td>8</td>\n",
              "      <td>350.0</td>\n",
              "      <td>170</td>\n",
              "      <td>4165</td>\n",
              "      <td>11.4</td>\n",
              "      <td>77</td>\n",
              "      <td>1</td>\n",
              "      <td>chevrolet monte carlo landau</td>\n",
              "    </tr>\n",
              "    <tr>\n",
              "      <th>3</th>\n",
              "      <td>17.0</td>\n",
              "      <td>6</td>\n",
              "      <td>231.0</td>\n",
              "      <td>110</td>\n",
              "      <td>3907</td>\n",
              "      <td>21.0</td>\n",
              "      <td>75</td>\n",
              "      <td>1</td>\n",
              "      <td>buick century</td>\n",
              "    </tr>\n",
              "    <tr>\n",
              "      <th>4</th>\n",
              "      <td>13.0</td>\n",
              "      <td>8</td>\n",
              "      <td>318.0</td>\n",
              "      <td>150</td>\n",
              "      <td>3755</td>\n",
              "      <td>14.0</td>\n",
              "      <td>76</td>\n",
              "      <td>1</td>\n",
              "      <td>dodge d100</td>\n",
              "    </tr>\n",
              "    <tr>\n",
              "      <th>5</th>\n",
              "      <td>13.0</td>\n",
              "      <td>8</td>\n",
              "      <td>302.0</td>\n",
              "      <td>130</td>\n",
              "      <td>3870</td>\n",
              "      <td>15.0</td>\n",
              "      <td>76</td>\n",
              "      <td>1</td>\n",
              "      <td>ford f108</td>\n",
              "    </tr>\n",
              "    <tr>\n",
              "      <th>6</th>\n",
              "      <td>25.0</td>\n",
              "      <td>4</td>\n",
              "      <td>110.0</td>\n",
              "      <td>87</td>\n",
              "      <td>2672</td>\n",
              "      <td>17.5</td>\n",
              "      <td>70</td>\n",
              "      <td>2</td>\n",
              "      <td>peugeot 504</td>\n",
              "    </tr>\n",
              "    <tr>\n",
              "      <th>7</th>\n",
              "      <td>25.5</td>\n",
              "      <td>4</td>\n",
              "      <td>140.0</td>\n",
              "      <td>89</td>\n",
              "      <td>2755</td>\n",
              "      <td>15.8</td>\n",
              "      <td>77</td>\n",
              "      <td>1</td>\n",
              "      <td>ford mustang ii 2+2</td>\n",
              "    </tr>\n",
              "    <tr>\n",
              "      <th>8</th>\n",
              "      <td>38.0</td>\n",
              "      <td>4</td>\n",
              "      <td>91.0</td>\n",
              "      <td>67</td>\n",
              "      <td>1995</td>\n",
              "      <td>16.2</td>\n",
              "      <td>82</td>\n",
              "      <td>3</td>\n",
              "      <td>datsun 310 gx</td>\n",
              "    </tr>\n",
              "    <tr>\n",
              "      <th>9</th>\n",
              "      <td>20.5</td>\n",
              "      <td>6</td>\n",
              "      <td>225.0</td>\n",
              "      <td>100</td>\n",
              "      <td>3430</td>\n",
              "      <td>17.2</td>\n",
              "      <td>78</td>\n",
              "      <td>1</td>\n",
              "      <td>plymouth volare</td>\n",
              "    </tr>\n",
              "  </tbody>\n",
              "</table>\n",
              "</div>\n",
              "      <button class=\"colab-df-convert\" onclick=\"convertToInteractive('df-4f38815a-489d-46c5-8b0d-7ff563cedcaa')\"\n",
              "              title=\"Convert this dataframe to an interactive table.\"\n",
              "              style=\"display:none;\">\n",
              "        \n",
              "  <svg xmlns=\"http://www.w3.org/2000/svg\" height=\"24px\"viewBox=\"0 0 24 24\"\n",
              "       width=\"24px\">\n",
              "    <path d=\"M0 0h24v24H0V0z\" fill=\"none\"/>\n",
              "    <path d=\"M18.56 5.44l.94 2.06.94-2.06 2.06-.94-2.06-.94-.94-2.06-.94 2.06-2.06.94zm-11 1L8.5 8.5l.94-2.06 2.06-.94-2.06-.94L8.5 2.5l-.94 2.06-2.06.94zm10 10l.94 2.06.94-2.06 2.06-.94-2.06-.94-.94-2.06-.94 2.06-2.06.94z\"/><path d=\"M17.41 7.96l-1.37-1.37c-.4-.4-.92-.59-1.43-.59-.52 0-1.04.2-1.43.59L10.3 9.45l-7.72 7.72c-.78.78-.78 2.05 0 2.83L4 21.41c.39.39.9.59 1.41.59.51 0 1.02-.2 1.41-.59l7.78-7.78 2.81-2.81c.8-.78.8-2.07 0-2.86zM5.41 20L4 18.59l7.72-7.72 1.47 1.35L5.41 20z\"/>\n",
              "  </svg>\n",
              "      </button>\n",
              "      \n",
              "  <style>\n",
              "    .colab-df-container {\n",
              "      display:flex;\n",
              "      flex-wrap:wrap;\n",
              "      gap: 12px;\n",
              "    }\n",
              "\n",
              "    .colab-df-convert {\n",
              "      background-color: #E8F0FE;\n",
              "      border: none;\n",
              "      border-radius: 50%;\n",
              "      cursor: pointer;\n",
              "      display: none;\n",
              "      fill: #1967D2;\n",
              "      height: 32px;\n",
              "      padding: 0 0 0 0;\n",
              "      width: 32px;\n",
              "    }\n",
              "\n",
              "    .colab-df-convert:hover {\n",
              "      background-color: #E2EBFA;\n",
              "      box-shadow: 0px 1px 2px rgba(60, 64, 67, 0.3), 0px 1px 3px 1px rgba(60, 64, 67, 0.15);\n",
              "      fill: #174EA6;\n",
              "    }\n",
              "\n",
              "    [theme=dark] .colab-df-convert {\n",
              "      background-color: #3B4455;\n",
              "      fill: #D2E3FC;\n",
              "    }\n",
              "\n",
              "    [theme=dark] .colab-df-convert:hover {\n",
              "      background-color: #434B5C;\n",
              "      box-shadow: 0px 1px 3px 1px rgba(0, 0, 0, 0.15);\n",
              "      filter: drop-shadow(0px 1px 2px rgba(0, 0, 0, 0.3));\n",
              "      fill: #FFFFFF;\n",
              "    }\n",
              "  </style>\n",
              "\n",
              "      <script>\n",
              "        const buttonEl =\n",
              "          document.querySelector('#df-4f38815a-489d-46c5-8b0d-7ff563cedcaa button.colab-df-convert');\n",
              "        buttonEl.style.display =\n",
              "          google.colab.kernel.accessAllowed ? 'block' : 'none';\n",
              "\n",
              "        async function convertToInteractive(key) {\n",
              "          const element = document.querySelector('#df-4f38815a-489d-46c5-8b0d-7ff563cedcaa');\n",
              "          const dataTable =\n",
              "            await google.colab.kernel.invokeFunction('convertToInteractive',\n",
              "                                                     [key], {});\n",
              "          if (!dataTable) return;\n",
              "\n",
              "          const docLinkHtml = 'Like what you see? Visit the ' +\n",
              "            '<a target=\"_blank\" href=https://colab.research.google.com/notebooks/data_table.ipynb>data table notebook</a>'\n",
              "            + ' to learn more about interactive tables.';\n",
              "          element.innerHTML = '';\n",
              "          dataTable['output_type'] = 'display_data';\n",
              "          await google.colab.output.renderOutput(dataTable, element);\n",
              "          const docLink = document.createElement('div');\n",
              "          docLink.innerHTML = docLinkHtml;\n",
              "          element.appendChild(docLink);\n",
              "        }\n",
              "      </script>\n",
              "    </div>\n",
              "  </div>\n",
              "  "
            ]
          },
          "metadata": {},
          "execution_count": 85
        }
      ]
    },
    {
      "cell_type": "code",
      "source": [
        "# we have seen that the horsepower column is an object datatype\n",
        "#let's figure out why we are getting an object datatype\n",
        "data.Horsepower.unique()"
      ],
      "metadata": {
        "colab": {
          "base_uri": "https://localhost:8080/"
        },
        "id": "aaKcGRlXsY_O",
        "outputId": "c68ba549-1eb0-4c24-daf5-664b742e3cb5"
      },
      "execution_count": 86,
      "outputs": [
        {
          "output_type": "execute_result",
          "data": {
            "text/plain": [
              "array(['190', '145', '170', '110', '150', '130', '87', '89', '67', '100',\n",
              "       '167', '175', '83', '80', '135', '84', '198', '68', '86', '70',\n",
              "       '120', '95', '75', '105', '97', '71', '78', '88', '165', '180',\n",
              "       '63', '54', '125', '92', '?', '69', '65', '90', '81', '60', '77',\n",
              "       '129', '140', '96', '115', '85', '138', '155', '137', '62', '46',\n",
              "       '49', '225', '113', '52', '48', '61', '82', '193', '72', '76',\n",
              "       '153', '93', '112', '160', '108', '152', '79', '58', '98', '64',\n",
              "       '107', '230', '158', '215', '220', '148', '74', '139'],\n",
              "      dtype=object)"
            ]
          },
          "metadata": {},
          "execution_count": 86
        }
      ]
    },
    {
      "cell_type": "markdown",
      "source": [
        "We can see that the odd value is actually a '?'. So we now change it to NaN value and fill the spot with the mean horsepower."
      ],
      "metadata": {
        "id": "qzUr3DUNssW2"
      }
    },
    {
      "cell_type": "code",
      "source": [
        "#cleaning of the horsepower column\n",
        "data.Horsepower = data.Horsepower.str.replace('?','NaN').astype(float)\n",
        "data.Horsepower.fillna(data.Horsepower.mean(),inplace=True)\n",
        "data.Horsepower = data.Horsepower.astype(int)"
      ],
      "metadata": {
        "id": "DCfikuOts08E"
      },
      "execution_count": 87,
      "outputs": []
    },
    {
      "cell_type": "code",
      "source": [
        "# printing the info of the dataset again to see the datatypes of columns\n",
        "data.info()"
      ],
      "metadata": {
        "colab": {
          "base_uri": "https://localhost:8080/"
        },
        "id": "jiLudlF6tJmr",
        "outputId": "ccd95988-364c-4401-83d5-c2464a8e18cc"
      },
      "execution_count": 88,
      "outputs": [
        {
          "output_type": "stream",
          "name": "stdout",
          "text": [
            "<class 'pandas.core.frame.DataFrame'>\n",
            "RangeIndex: 300 entries, 0 to 299\n",
            "Data columns (total 9 columns):\n",
            " #   Column        Non-Null Count  Dtype  \n",
            "---  ------        --------------  -----  \n",
            " 0   MPG           300 non-null    float64\n",
            " 1   Cylinders     300 non-null    int64  \n",
            " 2   Displacement  300 non-null    float64\n",
            " 3   Horsepower    300 non-null    int64  \n",
            " 4   Weight        300 non-null    int64  \n",
            " 5   Acceleration  300 non-null    float64\n",
            " 6   Model Year    300 non-null    int64  \n",
            " 7   Origin        300 non-null    int64  \n",
            " 8   Car Name      300 non-null    object \n",
            "dtypes: float64(3), int64(5), object(1)\n",
            "memory usage: 21.2+ KB\n"
          ]
        }
      ]
    },
    {
      "cell_type": "code",
      "source": [
        "# we won't be needing the car column so we drop it\n",
        "#notice, we are doing everything on data and not df because we don't want to alter the original dataset\n",
        "data = data.drop('Car Name',axis=1)"
      ],
      "metadata": {
        "id": "qsolMwQmtTAe"
      },
      "execution_count": 89,
      "outputs": []
    },
    {
      "cell_type": "code",
      "source": [
        "#after dropping the car name, checking for duplicate and null values and displaying the dataset again\n",
        "print('sum of duplicated values: {}\\n'.format(data.duplicated().sum()))\n",
        "print('sum of null values: {}'.format(data.isnull().sum()))\n",
        "\n",
        "data.head(10)"
      ],
      "metadata": {
        "colab": {
          "base_uri": "https://localhost:8080/",
          "height": 554
        },
        "id": "FKnxZ1e9uApg",
        "outputId": "fa067cb8-77e4-4b6b-d839-d2237cf515bd"
      },
      "execution_count": 90,
      "outputs": [
        {
          "output_type": "stream",
          "name": "stdout",
          "text": [
            "sum of duplicated values: 0\n",
            "\n",
            "sum of null values: MPG             0\n",
            "Cylinders       0\n",
            "Displacement    0\n",
            "Horsepower      0\n",
            "Weight          0\n",
            "Acceleration    0\n",
            "Model Year      0\n",
            "Origin          0\n",
            "dtype: int64\n"
          ]
        },
        {
          "output_type": "execute_result",
          "data": {
            "text/plain": [
              "    MPG  Cylinders  Displacement  Horsepower  Weight  Acceleration  \\\n",
              "0  13.0          8         400.0         190    4422          12.5   \n",
              "1  13.0          8         350.0         145    3988          13.0   \n",
              "2  15.5          8         350.0         170    4165          11.4   \n",
              "3  17.0          6         231.0         110    3907          21.0   \n",
              "4  13.0          8         318.0         150    3755          14.0   \n",
              "5  13.0          8         302.0         130    3870          15.0   \n",
              "6  25.0          4         110.0          87    2672          17.5   \n",
              "7  25.5          4         140.0          89    2755          15.8   \n",
              "8  38.0          4          91.0          67    1995          16.2   \n",
              "9  20.5          6         225.0         100    3430          17.2   \n",
              "\n",
              "   Model Year  Origin  \n",
              "0          72       1  \n",
              "1          73       1  \n",
              "2          77       1  \n",
              "3          75       1  \n",
              "4          76       1  \n",
              "5          76       1  \n",
              "6          70       2  \n",
              "7          77       1  \n",
              "8          82       3  \n",
              "9          78       1  "
            ],
            "text/html": [
              "\n",
              "  <div id=\"df-0e1877a5-6261-4e68-a43c-7624b84d0d24\">\n",
              "    <div class=\"colab-df-container\">\n",
              "      <div>\n",
              "<style scoped>\n",
              "    .dataframe tbody tr th:only-of-type {\n",
              "        vertical-align: middle;\n",
              "    }\n",
              "\n",
              "    .dataframe tbody tr th {\n",
              "        vertical-align: top;\n",
              "    }\n",
              "\n",
              "    .dataframe thead th {\n",
              "        text-align: right;\n",
              "    }\n",
              "</style>\n",
              "<table border=\"1\" class=\"dataframe\">\n",
              "  <thead>\n",
              "    <tr style=\"text-align: right;\">\n",
              "      <th></th>\n",
              "      <th>MPG</th>\n",
              "      <th>Cylinders</th>\n",
              "      <th>Displacement</th>\n",
              "      <th>Horsepower</th>\n",
              "      <th>Weight</th>\n",
              "      <th>Acceleration</th>\n",
              "      <th>Model Year</th>\n",
              "      <th>Origin</th>\n",
              "    </tr>\n",
              "  </thead>\n",
              "  <tbody>\n",
              "    <tr>\n",
              "      <th>0</th>\n",
              "      <td>13.0</td>\n",
              "      <td>8</td>\n",
              "      <td>400.0</td>\n",
              "      <td>190</td>\n",
              "      <td>4422</td>\n",
              "      <td>12.5</td>\n",
              "      <td>72</td>\n",
              "      <td>1</td>\n",
              "    </tr>\n",
              "    <tr>\n",
              "      <th>1</th>\n",
              "      <td>13.0</td>\n",
              "      <td>8</td>\n",
              "      <td>350.0</td>\n",
              "      <td>145</td>\n",
              "      <td>3988</td>\n",
              "      <td>13.0</td>\n",
              "      <td>73</td>\n",
              "      <td>1</td>\n",
              "    </tr>\n",
              "    <tr>\n",
              "      <th>2</th>\n",
              "      <td>15.5</td>\n",
              "      <td>8</td>\n",
              "      <td>350.0</td>\n",
              "      <td>170</td>\n",
              "      <td>4165</td>\n",
              "      <td>11.4</td>\n",
              "      <td>77</td>\n",
              "      <td>1</td>\n",
              "    </tr>\n",
              "    <tr>\n",
              "      <th>3</th>\n",
              "      <td>17.0</td>\n",
              "      <td>6</td>\n",
              "      <td>231.0</td>\n",
              "      <td>110</td>\n",
              "      <td>3907</td>\n",
              "      <td>21.0</td>\n",
              "      <td>75</td>\n",
              "      <td>1</td>\n",
              "    </tr>\n",
              "    <tr>\n",
              "      <th>4</th>\n",
              "      <td>13.0</td>\n",
              "      <td>8</td>\n",
              "      <td>318.0</td>\n",
              "      <td>150</td>\n",
              "      <td>3755</td>\n",
              "      <td>14.0</td>\n",
              "      <td>76</td>\n",
              "      <td>1</td>\n",
              "    </tr>\n",
              "    <tr>\n",
              "      <th>5</th>\n",
              "      <td>13.0</td>\n",
              "      <td>8</td>\n",
              "      <td>302.0</td>\n",
              "      <td>130</td>\n",
              "      <td>3870</td>\n",
              "      <td>15.0</td>\n",
              "      <td>76</td>\n",
              "      <td>1</td>\n",
              "    </tr>\n",
              "    <tr>\n",
              "      <th>6</th>\n",
              "      <td>25.0</td>\n",
              "      <td>4</td>\n",
              "      <td>110.0</td>\n",
              "      <td>87</td>\n",
              "      <td>2672</td>\n",
              "      <td>17.5</td>\n",
              "      <td>70</td>\n",
              "      <td>2</td>\n",
              "    </tr>\n",
              "    <tr>\n",
              "      <th>7</th>\n",
              "      <td>25.5</td>\n",
              "      <td>4</td>\n",
              "      <td>140.0</td>\n",
              "      <td>89</td>\n",
              "      <td>2755</td>\n",
              "      <td>15.8</td>\n",
              "      <td>77</td>\n",
              "      <td>1</td>\n",
              "    </tr>\n",
              "    <tr>\n",
              "      <th>8</th>\n",
              "      <td>38.0</td>\n",
              "      <td>4</td>\n",
              "      <td>91.0</td>\n",
              "      <td>67</td>\n",
              "      <td>1995</td>\n",
              "      <td>16.2</td>\n",
              "      <td>82</td>\n",
              "      <td>3</td>\n",
              "    </tr>\n",
              "    <tr>\n",
              "      <th>9</th>\n",
              "      <td>20.5</td>\n",
              "      <td>6</td>\n",
              "      <td>225.0</td>\n",
              "      <td>100</td>\n",
              "      <td>3430</td>\n",
              "      <td>17.2</td>\n",
              "      <td>78</td>\n",
              "      <td>1</td>\n",
              "    </tr>\n",
              "  </tbody>\n",
              "</table>\n",
              "</div>\n",
              "      <button class=\"colab-df-convert\" onclick=\"convertToInteractive('df-0e1877a5-6261-4e68-a43c-7624b84d0d24')\"\n",
              "              title=\"Convert this dataframe to an interactive table.\"\n",
              "              style=\"display:none;\">\n",
              "        \n",
              "  <svg xmlns=\"http://www.w3.org/2000/svg\" height=\"24px\"viewBox=\"0 0 24 24\"\n",
              "       width=\"24px\">\n",
              "    <path d=\"M0 0h24v24H0V0z\" fill=\"none\"/>\n",
              "    <path d=\"M18.56 5.44l.94 2.06.94-2.06 2.06-.94-2.06-.94-.94-2.06-.94 2.06-2.06.94zm-11 1L8.5 8.5l.94-2.06 2.06-.94-2.06-.94L8.5 2.5l-.94 2.06-2.06.94zm10 10l.94 2.06.94-2.06 2.06-.94-2.06-.94-.94-2.06-.94 2.06-2.06.94z\"/><path d=\"M17.41 7.96l-1.37-1.37c-.4-.4-.92-.59-1.43-.59-.52 0-1.04.2-1.43.59L10.3 9.45l-7.72 7.72c-.78.78-.78 2.05 0 2.83L4 21.41c.39.39.9.59 1.41.59.51 0 1.02-.2 1.41-.59l7.78-7.78 2.81-2.81c.8-.78.8-2.07 0-2.86zM5.41 20L4 18.59l7.72-7.72 1.47 1.35L5.41 20z\"/>\n",
              "  </svg>\n",
              "      </button>\n",
              "      \n",
              "  <style>\n",
              "    .colab-df-container {\n",
              "      display:flex;\n",
              "      flex-wrap:wrap;\n",
              "      gap: 12px;\n",
              "    }\n",
              "\n",
              "    .colab-df-convert {\n",
              "      background-color: #E8F0FE;\n",
              "      border: none;\n",
              "      border-radius: 50%;\n",
              "      cursor: pointer;\n",
              "      display: none;\n",
              "      fill: #1967D2;\n",
              "      height: 32px;\n",
              "      padding: 0 0 0 0;\n",
              "      width: 32px;\n",
              "    }\n",
              "\n",
              "    .colab-df-convert:hover {\n",
              "      background-color: #E2EBFA;\n",
              "      box-shadow: 0px 1px 2px rgba(60, 64, 67, 0.3), 0px 1px 3px 1px rgba(60, 64, 67, 0.15);\n",
              "      fill: #174EA6;\n",
              "    }\n",
              "\n",
              "    [theme=dark] .colab-df-convert {\n",
              "      background-color: #3B4455;\n",
              "      fill: #D2E3FC;\n",
              "    }\n",
              "\n",
              "    [theme=dark] .colab-df-convert:hover {\n",
              "      background-color: #434B5C;\n",
              "      box-shadow: 0px 1px 3px 1px rgba(0, 0, 0, 0.15);\n",
              "      filter: drop-shadow(0px 1px 2px rgba(0, 0, 0, 0.3));\n",
              "      fill: #FFFFFF;\n",
              "    }\n",
              "  </style>\n",
              "\n",
              "      <script>\n",
              "        const buttonEl =\n",
              "          document.querySelector('#df-0e1877a5-6261-4e68-a43c-7624b84d0d24 button.colab-df-convert');\n",
              "        buttonEl.style.display =\n",
              "          google.colab.kernel.accessAllowed ? 'block' : 'none';\n",
              "\n",
              "        async function convertToInteractive(key) {\n",
              "          const element = document.querySelector('#df-0e1877a5-6261-4e68-a43c-7624b84d0d24');\n",
              "          const dataTable =\n",
              "            await google.colab.kernel.invokeFunction('convertToInteractive',\n",
              "                                                     [key], {});\n",
              "          if (!dataTable) return;\n",
              "\n",
              "          const docLinkHtml = 'Like what you see? Visit the ' +\n",
              "            '<a target=\"_blank\" href=https://colab.research.google.com/notebooks/data_table.ipynb>data table notebook</a>'\n",
              "            + ' to learn more about interactive tables.';\n",
              "          element.innerHTML = '';\n",
              "          dataTable['output_type'] = 'display_data';\n",
              "          await google.colab.output.renderOutput(dataTable, element);\n",
              "          const docLink = document.createElement('div');\n",
              "          docLink.innerHTML = docLinkHtml;\n",
              "          element.appendChild(docLink);\n",
              "        }\n",
              "      </script>\n",
              "    </div>\n",
              "  </div>\n",
              "  "
            ]
          },
          "metadata": {},
          "execution_count": 90
        }
      ]
    },
    {
      "cell_type": "markdown",
      "source": [
        "# **One Hot Encoding**"
      ],
      "metadata": {
        "id": "LdlXbk0kuiCP"
      }
    },
    {
      "cell_type": "code",
      "source": [
        "Origin = data.pop('Origin')"
      ],
      "metadata": {
        "id": "nEIOH4X3ulYH"
      },
      "execution_count": null,
      "outputs": []
    },
    {
      "cell_type": "markdown",
      "source": [
        "The \"Origin\" column is really categorical, not numeric. So we convert that to a one-hot."
      ],
      "metadata": {
        "id": "bNuyW_ktur44"
      }
    },
    {
      "cell_type": "code",
      "source": [
        "data['China'] = (Origin == 1)*1.0\n",
        "data['Japan'] = (Origin == 2)*1.0\n",
        "data['Germany'] = (Origin == 3)*1.0\n",
        "data.tail()"
      ],
      "metadata": {
        "colab": {
          "base_uri": "https://localhost:8080/",
          "height": 214
        },
        "id": "y09cNnFbutCW",
        "outputId": "ec8ad46c-2f97-429d-d056-622337634699"
      },
      "execution_count": null,
      "outputs": [
        {
          "output_type": "execute_result",
          "data": {
            "text/plain": [
              "      MPG  Cylinders  Displacement  Horsepower  Weight  Acceleration  \\\n",
              "295  22.0          6         232.0         112    2835          14.7   \n",
              "296  18.0          6         250.0          78    3574          21.0   \n",
              "297  18.1          8         302.0         139    3205          11.2   \n",
              "298  15.0          8         318.0         150    4135          13.5   \n",
              "299  40.9          4          85.0         104    1835          17.3   \n",
              "\n",
              "     Model Year  China  Japan  Germany  \n",
              "295          82    1.0    0.0      0.0  \n",
              "296          76    1.0    0.0      0.0  \n",
              "297          78    1.0    0.0      0.0  \n",
              "298          72    1.0    0.0      0.0  \n",
              "299          80    0.0    1.0      0.0  "
            ],
            "text/html": [
              "\n",
              "  <div id=\"df-d84c16b4-a5b4-4950-b867-9a43bff1c482\">\n",
              "    <div class=\"colab-df-container\">\n",
              "      <div>\n",
              "<style scoped>\n",
              "    .dataframe tbody tr th:only-of-type {\n",
              "        vertical-align: middle;\n",
              "    }\n",
              "\n",
              "    .dataframe tbody tr th {\n",
              "        vertical-align: top;\n",
              "    }\n",
              "\n",
              "    .dataframe thead th {\n",
              "        text-align: right;\n",
              "    }\n",
              "</style>\n",
              "<table border=\"1\" class=\"dataframe\">\n",
              "  <thead>\n",
              "    <tr style=\"text-align: right;\">\n",
              "      <th></th>\n",
              "      <th>MPG</th>\n",
              "      <th>Cylinders</th>\n",
              "      <th>Displacement</th>\n",
              "      <th>Horsepower</th>\n",
              "      <th>Weight</th>\n",
              "      <th>Acceleration</th>\n",
              "      <th>Model Year</th>\n",
              "      <th>China</th>\n",
              "      <th>Japan</th>\n",
              "      <th>Germany</th>\n",
              "    </tr>\n",
              "  </thead>\n",
              "  <tbody>\n",
              "    <tr>\n",
              "      <th>295</th>\n",
              "      <td>22.0</td>\n",
              "      <td>6</td>\n",
              "      <td>232.0</td>\n",
              "      <td>112</td>\n",
              "      <td>2835</td>\n",
              "      <td>14.7</td>\n",
              "      <td>82</td>\n",
              "      <td>1.0</td>\n",
              "      <td>0.0</td>\n",
              "      <td>0.0</td>\n",
              "    </tr>\n",
              "    <tr>\n",
              "      <th>296</th>\n",
              "      <td>18.0</td>\n",
              "      <td>6</td>\n",
              "      <td>250.0</td>\n",
              "      <td>78</td>\n",
              "      <td>3574</td>\n",
              "      <td>21.0</td>\n",
              "      <td>76</td>\n",
              "      <td>1.0</td>\n",
              "      <td>0.0</td>\n",
              "      <td>0.0</td>\n",
              "    </tr>\n",
              "    <tr>\n",
              "      <th>297</th>\n",
              "      <td>18.1</td>\n",
              "      <td>8</td>\n",
              "      <td>302.0</td>\n",
              "      <td>139</td>\n",
              "      <td>3205</td>\n",
              "      <td>11.2</td>\n",
              "      <td>78</td>\n",
              "      <td>1.0</td>\n",
              "      <td>0.0</td>\n",
              "      <td>0.0</td>\n",
              "    </tr>\n",
              "    <tr>\n",
              "      <th>298</th>\n",
              "      <td>15.0</td>\n",
              "      <td>8</td>\n",
              "      <td>318.0</td>\n",
              "      <td>150</td>\n",
              "      <td>4135</td>\n",
              "      <td>13.5</td>\n",
              "      <td>72</td>\n",
              "      <td>1.0</td>\n",
              "      <td>0.0</td>\n",
              "      <td>0.0</td>\n",
              "    </tr>\n",
              "    <tr>\n",
              "      <th>299</th>\n",
              "      <td>40.9</td>\n",
              "      <td>4</td>\n",
              "      <td>85.0</td>\n",
              "      <td>104</td>\n",
              "      <td>1835</td>\n",
              "      <td>17.3</td>\n",
              "      <td>80</td>\n",
              "      <td>0.0</td>\n",
              "      <td>1.0</td>\n",
              "      <td>0.0</td>\n",
              "    </tr>\n",
              "  </tbody>\n",
              "</table>\n",
              "</div>\n",
              "      <button class=\"colab-df-convert\" onclick=\"convertToInteractive('df-d84c16b4-a5b4-4950-b867-9a43bff1c482')\"\n",
              "              title=\"Convert this dataframe to an interactive table.\"\n",
              "              style=\"display:none;\">\n",
              "        \n",
              "  <svg xmlns=\"http://www.w3.org/2000/svg\" height=\"24px\"viewBox=\"0 0 24 24\"\n",
              "       width=\"24px\">\n",
              "    <path d=\"M0 0h24v24H0V0z\" fill=\"none\"/>\n",
              "    <path d=\"M18.56 5.44l.94 2.06.94-2.06 2.06-.94-2.06-.94-.94-2.06-.94 2.06-2.06.94zm-11 1L8.5 8.5l.94-2.06 2.06-.94-2.06-.94L8.5 2.5l-.94 2.06-2.06.94zm10 10l.94 2.06.94-2.06 2.06-.94-2.06-.94-.94-2.06-.94 2.06-2.06.94z\"/><path d=\"M17.41 7.96l-1.37-1.37c-.4-.4-.92-.59-1.43-.59-.52 0-1.04.2-1.43.59L10.3 9.45l-7.72 7.72c-.78.78-.78 2.05 0 2.83L4 21.41c.39.39.9.59 1.41.59.51 0 1.02-.2 1.41-.59l7.78-7.78 2.81-2.81c.8-.78.8-2.07 0-2.86zM5.41 20L4 18.59l7.72-7.72 1.47 1.35L5.41 20z\"/>\n",
              "  </svg>\n",
              "      </button>\n",
              "      \n",
              "  <style>\n",
              "    .colab-df-container {\n",
              "      display:flex;\n",
              "      flex-wrap:wrap;\n",
              "      gap: 12px;\n",
              "    }\n",
              "\n",
              "    .colab-df-convert {\n",
              "      background-color: #E8F0FE;\n",
              "      border: none;\n",
              "      border-radius: 50%;\n",
              "      cursor: pointer;\n",
              "      display: none;\n",
              "      fill: #1967D2;\n",
              "      height: 32px;\n",
              "      padding: 0 0 0 0;\n",
              "      width: 32px;\n",
              "    }\n",
              "\n",
              "    .colab-df-convert:hover {\n",
              "      background-color: #E2EBFA;\n",
              "      box-shadow: 0px 1px 2px rgba(60, 64, 67, 0.3), 0px 1px 3px 1px rgba(60, 64, 67, 0.15);\n",
              "      fill: #174EA6;\n",
              "    }\n",
              "\n",
              "    [theme=dark] .colab-df-convert {\n",
              "      background-color: #3B4455;\n",
              "      fill: #D2E3FC;\n",
              "    }\n",
              "\n",
              "    [theme=dark] .colab-df-convert:hover {\n",
              "      background-color: #434B5C;\n",
              "      box-shadow: 0px 1px 3px 1px rgba(0, 0, 0, 0.15);\n",
              "      filter: drop-shadow(0px 1px 2px rgba(0, 0, 0, 0.3));\n",
              "      fill: #FFFFFF;\n",
              "    }\n",
              "  </style>\n",
              "\n",
              "      <script>\n",
              "        const buttonEl =\n",
              "          document.querySelector('#df-d84c16b4-a5b4-4950-b867-9a43bff1c482 button.colab-df-convert');\n",
              "        buttonEl.style.display =\n",
              "          google.colab.kernel.accessAllowed ? 'block' : 'none';\n",
              "\n",
              "        async function convertToInteractive(key) {\n",
              "          const element = document.querySelector('#df-d84c16b4-a5b4-4950-b867-9a43bff1c482');\n",
              "          const dataTable =\n",
              "            await google.colab.kernel.invokeFunction('convertToInteractive',\n",
              "                                                     [key], {});\n",
              "          if (!dataTable) return;\n",
              "\n",
              "          const docLinkHtml = 'Like what you see? Visit the ' +\n",
              "            '<a target=\"_blank\" href=https://colab.research.google.com/notebooks/data_table.ipynb>data table notebook</a>'\n",
              "            + ' to learn more about interactive tables.';\n",
              "          element.innerHTML = '';\n",
              "          dataTable['output_type'] = 'display_data';\n",
              "          await google.colab.output.renderOutput(dataTable, element);\n",
              "          const docLink = document.createElement('div');\n",
              "          docLink.innerHTML = docLinkHtml;\n",
              "          element.appendChild(docLink);\n",
              "        }\n",
              "      </script>\n",
              "    </div>\n",
              "  </div>\n",
              "  "
            ]
          },
          "metadata": {},
          "execution_count": 33
        }
      ]
    },
    {
      "cell_type": "markdown",
      "source": [
        "The top 3 countries for car production according to recent research say:\n",
        "\n",
        "1. China\n",
        "2. Japan\n",
        "3. Germany"
      ],
      "metadata": {
        "id": "aolmkbIeu2C9"
      }
    },
    {
      "cell_type": "markdown",
      "source": [
        "# **Plotting Categorical Data**"
      ],
      "metadata": {
        "id": "5QGNaNpe5v82"
      }
    },
    {
      "cell_type": "code",
      "source": [
        "categorical_columns = ['Cylinders', 'Model Year']\n",
        "\n",
        "for col in categorical_columns:\n",
        "    print(\n",
        "        f'Value counts of \"{data[col].name}\" column:\\n{data[col].value_counts()}')\n",
        "    print()"
      ],
      "metadata": {
        "colab": {
          "base_uri": "https://localhost:8080/"
        },
        "id": "9ttaGueY5yvO",
        "outputId": "88d54643-4c4d-4304-9b62-da3a0907e1e7"
      },
      "execution_count": 66,
      "outputs": [
        {
          "output_type": "stream",
          "name": "stdout",
          "text": [
            "Value counts of \"Cylinders\" column:\n",
            "4    157\n",
            "8     77\n",
            "6     61\n",
            "3      3\n",
            "5      2\n",
            "Name: Cylinders, dtype: int64\n",
            "\n",
            "Value counts of \"Model Year\" column:\n",
            "73    29\n",
            "76    28\n",
            "82    27\n",
            "70    24\n",
            "78    23\n",
            "79    23\n",
            "80    23\n",
            "71    22\n",
            "81    21\n",
            "72    20\n",
            "77    20\n",
            "75    20\n",
            "74    20\n",
            "Name: Model Year, dtype: int64\n",
            "\n"
          ]
        }
      ]
    },
    {
      "cell_type": "markdown",
      "source": [
        "We will turn the dtype of cylinders, model year into categorical dtype."
      ],
      "metadata": {
        "id": "ULXy6I5J6J0y"
      }
    },
    {
      "cell_type": "code",
      "source": [
        "# convert dtype to 'category'\n",
        "data['Cylinders'] = data['Cylinders'].astype('category')\n",
        "data['Model Year'] = data['Model Year'].astype('category')"
      ],
      "metadata": {
        "id": "kLHC2fM76NCV"
      },
      "execution_count": 67,
      "outputs": []
    },
    {
      "cell_type": "markdown",
      "source": [
        "Now I want to create a boxplot to see how each categorical column affects a vehicle's performance."
      ],
      "metadata": {
        "id": "wUVgF0qe6bYI"
      }
    },
    {
      "cell_type": "code",
      "source": [
        "fig, axes = plt.subplots(figsize=(8, 12), dpi=200,\n",
        "                         nrows=2, ncols=1, gridspec_kw={'hspace': 0.3})\n",
        "\n",
        "for i, col in enumerate(categorical_columns):\n",
        "    sns.boxplot(x=col, y='MPG', data=data, ax=axes[i])\n",
        "    axes[i].set_ylabel('Miles per Gallon (mpg)', fontsize=16)\n",
        "    axes[i].set_xlabel(col.title(), fontsize=16)\n",
        "    \n",
        "plt.show()"
      ],
      "metadata": {
        "colab": {
          "base_uri": "https://localhost:8080/",
          "height": 1000
        },
        "id": "LX5ehU9w6cWm",
        "outputId": "cc8b5c09-22dc-4a66-a80b-1ca539f9cfd1"
      },
      "execution_count": 72,
      "outputs": [
        {
          "output_type": "display_data",
          "data": {
            "text/plain": [
              "<Figure size 1600x2400 with 2 Axes>"
            ],
            "image/png": "[encoded data removed]"
          },
          "metadata": {
            "needs_background": "light"
          }
        }
      ]
    },
    {
      "cell_type": "markdown",
      "source": [
        "From the above plot, it looks like cars with 4 cylinders generally achive higher mileage. \n",
        "\n",
        "For the model year column, the later the year when the car was produced, the better the performance."
      ],
      "metadata": {
        "id": "lUL2lM0S7Zzo"
      }
    },
    {
      "cell_type": "markdown",
      "source": [
        "# **Data Visualization**"
      ],
      "metadata": {
        "id": "VCsEoHAIu75O"
      }
    },
    {
      "cell_type": "code",
      "source": [
        "# let's visualize the distribution of the features of the cars\n",
        "data.hist(figsize=(14,10),bins=30)\n",
        "plt.show()"
      ],
      "metadata": {
        "colab": {
          "base_uri": "https://localhost:8080/",
          "height": 607
        },
        "id": "jiRl7CGUvFI2",
        "outputId": "6b35139d-419e-431f-a17a-c7d637668085"
      },
      "execution_count": 73,
      "outputs": [
        {
          "output_type": "display_data",
          "data": {
            "text/plain": [
              "<Figure size 1008x720 with 9 Axes>"
            ],
            "image/png": "[encoded data removed]"
          },
          "metadata": {
            "needs_background": "light"
          }
        }
      ]
    },
    {
      "cell_type": "code",
      "source": [
        "#trying to find the correlation between the features\n",
        "plt.figure(figsize=(15,10))\n",
        "sns.heatmap(data.corr(),annot=True, annot_kws={\"size\":12})\n",
        "plt.title('Heatmap displaying the relationship between\\nthe features of the data',\n",
        "         fontsize=12)"
      ],
      "metadata": {
        "colab": {
          "base_uri": "https://localhost:8080/",
          "height": 640
        },
        "id": "7kg_WoVNv08B",
        "outputId": "65c610fa-c039-4b0a-ec95-f8b8d117a936"
      },
      "execution_count": 42,
      "outputs": [
        {
          "output_type": "execute_result",
          "data": {
            "text/plain": [
              "Text(0.5, 1.0, 'Heatmap displaying the relationship between\\nthe features of the data')"
            ]
          },
          "metadata": {},
          "execution_count": 42
        },
        {
          "output_type": "display_data",
          "data": {
            "text/plain": [
              "<Figure size 1080x720 with 2 Axes>"
            ],
            "image/png": "[encoded data removed]"
          },
          "metadata": {
            "needs_background": "light"
          }
        }
      ]
    },
    {
      "cell_type": "markdown",
      "source": [
        "1. Car weight and displacement have the strongest inverse correlation with mileage. Lines up well with intuition that the more weighted cars isn’t the most efficient user of gasoline.\n",
        "\n",
        "2. Horsepower and number of cylinders are also strongly inversely correlated with mileage meaning a fast car needs more number of cylinders."
      ],
      "metadata": {
        "id": "mAl0dI7vwODd"
      }
    },
    {
      "cell_type": "code",
      "source": [
        "# print the correlation between the mpg and the remaining variables\n",
        "print('Correlation between mpg and the remaining variables:\\n\\n{}'.format(data.corr().MPG))"
      ],
      "metadata": {
        "colab": {
          "base_uri": "https://localhost:8080/"
        },
        "id": "0x4hAdSfwSfP",
        "outputId": "b09a7c09-2ec5-49d5-d06c-7f1220d7457e"
      },
      "execution_count": 44,
      "outputs": [
        {
          "output_type": "stream",
          "name": "stdout",
          "text": [
            "Correlation between mpg and the remaining variables:\n",
            "\n",
            "MPG             1.000000\n",
            "Cylinders      -0.798505\n",
            "Displacement   -0.818860\n",
            "Horsepower     -0.782598\n",
            "Weight         -0.837118\n",
            "Acceleration    0.453749\n",
            "Model Year      0.575630\n",
            "China          -0.570778\n",
            "Japan           0.279704\n",
            "Germany         0.427863\n",
            "Name: MPG, dtype: float64\n"
          ]
        }
      ]
    },
    {
      "cell_type": "markdown",
      "source": [
        "Variables which have a direct relationship (a positive correlation) increase together and decrease together. In an inverse relationship (a negative correlation), one variable increases while the other decreases.\n",
        "\n",
        "The one thing to keep in mind is, this correlation is in respect witb MPG which is the target value for this model."
      ],
      "metadata": {
        "id": "y6kaj4Ojw_bQ"
      }
    },
    {
      "cell_type": "code",
      "source": [
        "from matplotlib import pyplot as plt\n",
        "\n",
        "fig = plt.figure()\n",
        "ax1 = fig.add_subplot(2,1,1)\n",
        "ax2 = fig.add_subplot(2,1,2)\n",
        "data.plot('Weight','MPG',kind='scatter',ax=ax1)\n",
        "data.plot('Acceleration','MPG',kind='scatter',ax=ax2)\n",
        "plt.show()"
      ],
      "metadata": {
        "colab": {
          "base_uri": "https://localhost:8080/",
          "height": 279
        },
        "id": "O1GPafHBxBZF",
        "outputId": "4896a25e-d623-46f0-e253-9fda7a792f3e"
      },
      "execution_count": 45,
      "outputs": [
        {
          "output_type": "display_data",
          "data": {
            "text/plain": [
              "<Figure size 432x288 with 2 Axes>"
            ],
            "image/png": "[encoded data removed]"
          },
          "metadata": {
            "needs_background": "light"
          }
        }
      ]
    },
    {
      "cell_type": "markdown",
      "source": [
        "The above scatterplot shows a strong negative linear relationship between weight and mpg and a weak positive relationship between acceleration and mpg.\n",
        "\n",
        "We can conclude that MPG decreases with an increase in weight and increases somewhat with the increase in acceleration.\n",
        "\n",
        "MPG is also the primary measurement of a car's fuel efficiency hence more the weight, less the fuel efficiency."
      ],
      "metadata": {
        "id": "DIEUZ6TQxHh_"
      }
    },
    {
      "cell_type": "markdown",
      "source": [
        "# **Model Training**"
      ],
      "metadata": {
        "id": "ASnPUcSFxaIP"
      }
    },
    {
      "cell_type": "markdown",
      "source": [
        "Before training our model, we need to one hot encode the categorical columns."
      ],
      "metadata": {
        "id": "SoIiiYKQ72iC"
      }
    },
    {
      "cell_type": "code",
      "source": [
        "# one-hot encode the categorical columns\n",
        "X= data\n",
        "y = data['MPG']"
      ],
      "metadata": {
        "id": "uslWqwaY7-Wp"
      },
      "execution_count": 93,
      "outputs": []
    },
    {
      "cell_type": "code",
      "source": [
        "# one-hot encode the categorical columns\n",
        "one_hot = OneHotEncoder(handle_unknown='ignore')\n",
        "\n",
        "ct = ColumnTransformer([('one_hot', one_hot, categorical_columns)],\n",
        "                       remainder='passthrough')\n",
        "X = ct.fit_transform(X)"
      ],
      "metadata": {
        "id": "TBxd2ecy9M5t"
      },
      "execution_count": 94,
      "outputs": []
    },
    {
      "cell_type": "code",
      "source": [
        "# print the correlation between the mpg and the remaining variables\n",
        "print('Correlation between mpg and the remaining variables:\\n\\n{}'.format(newcars.corr().MPG))"
      ],
      "metadata": {
        "colab": {
          "base_uri": "https://localhost:8080/"
        },
        "id": "BfUe27NVx503",
        "outputId": "da1df4a0-fd67-4b8d-8d49-67d8c1f14f9b"
      },
      "execution_count": 106,
      "outputs": [
        {
          "output_type": "stream",
          "name": "stdout",
          "text": [
            "Correlation between mpg and the remaining variables:\n",
            "\n",
            "MPG             1.000000\n",
            "Horsepower     -0.782598\n",
            "Acceleration    0.453749\n",
            "Model Year      0.575630\n",
            "China          -0.570778\n",
            "Japan           0.279704\n",
            "Germany         0.427863\n",
            "Name: MPG, dtype: float64\n"
          ]
        }
      ]
    },
    {
      "cell_type": "code",
      "source": [
        "X = newcars.drop('MPG',axis=1)  # create a DataFrame of feature/independent variables\n",
        "y = newcars.MPG   # create a series of the dependent variable\n",
        "\n",
        "# the feature/independent variables are not of the same scale so we scale them \n",
        "# this is only neccessary for the LinearRegression,Ridge and Lasso models\n",
        "# scaling the feature variables ensures fast computing.\n",
        "X_scaled = preprocessing.scale(X)\n",
        "\n",
        "# preprocessing.scale() returns a 2-d array not a DataFrame so we make our scaled variables\n",
        "# a DataFrame.\n",
        "X_scaled = pd.DataFrame(X_scaled,columns=X.columns)\n",
        "\n",
        "# split our data into training and testing data\n",
        "X_train,X_test,y_train,y_test = train_test_split(X_scaled,y,test_size=0.5,random_state=70)\n",
        "\n",
        "model = LinearRegression()  # initialize the LinearRegression model\n",
        "model.fit(X_train,y_train)  # we fit the model with the training data"
      ],
      "metadata": {
        "colab": {
          "base_uri": "https://localhost:8080/"
        },
        "id": "CZsw9WuAyF3l",
        "outputId": "a8e9a6ab-75b0-408d-a0ab-3a24202a1107"
      },
      "execution_count": 188,
      "outputs": [
        {
          "output_type": "execute_result",
          "data": {
            "text/plain": [
              "LinearRegression()"
            ]
          },
          "metadata": {},
          "execution_count": 188
        }
      ]
    },
    {
      "cell_type": "code",
      "source": [
        "linear_pred = model.predict(X_test)  # make prediction with the fitted model\n",
        "\n",
        "# score the model on the train set\n",
        "print('Train score: {}\\n'.format(model.score(X_train,y_train)))\n",
        "# score the model on the test set\n",
        "print('Test score: {}\\n'.format(model.score(X_test,y_test)))\n",
        "# calculate the overall accuracy of the model\n",
        "print('Overall model accuracy: {}\\n'.format(r2_score(y_test,linear_pred)))\n",
        "# compute the mean squared error of the model\n",
        "print('Mean Squared Error: {}'.format(mean_squared_error(y_test,linear_pred)))"
      ],
      "metadata": {
        "colab": {
          "base_uri": "https://localhost:8080/"
        },
        "id": "-ebzB8E0yczr",
        "outputId": "d05c47b4-112c-491f-9dd5-6c694ac313a5"
      },
      "execution_count": 189,
      "outputs": [
        {
          "output_type": "stream",
          "name": "stdout",
          "text": [
            "Train score: 0.7293494480208988\n",
            "\n",
            "Test score: 0.7737378300798966\n",
            "\n",
            "Overall model accuracy: 0.7737378300798966\n",
            "\n",
            "Mean Squared Error: 14.20466953995768\n"
          ]
        }
      ]
    },
    {
      "cell_type": "code",
      "source": [
        "plt.figure(figsize=(20,10))\n",
        "x_ax = range(len(y_test))\n",
        "plt.plot(x_ax, y_test, label=\"original\", color=\"black\")\n",
        "plt.plot(x_ax, linear_pred, label=\"predicted\", color=\"red\")\n",
        "plt.title(\"Original consumption Vs Predicted consumption of fuel\")\n",
        "plt.legend()\n",
        "plt.show()"
      ],
      "metadata": {
        "colab": {
          "base_uri": "https://localhost:8080/",
          "height": 607
        },
        "id": "744vf7dUBjqJ",
        "outputId": "1bbf90a7-3283-4478-c40f-9c0c13aa932f"
      },
      "execution_count": 197,
      "outputs": [
        {
          "output_type": "display_data",
          "data": {
            "text/plain": [
              "<Figure size 1440x720 with 1 Axes>"
            ],
            "image/png": "[encoded data removed]"
          },
          "metadata": {
            "needs_background": "light"
          }
        }
      ]
    }
  ]
}